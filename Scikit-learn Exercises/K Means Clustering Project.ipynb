{
 "cells": [
  {
   "cell_type": "markdown",
   "metadata": {},
   "source": [
    "# K Means Clustering Project \n",
    "\n",
    "For this project we will attempt to use KMeans Clustering to cluster Universities into to two groups, Private and Public.\n",
    "\n",
    "___\n",
    "It is **very important to note, we actually have the labels for this data set, but we will NOT use them for the KMeans clustering algorithm, since that is an unsupervised learning algorithm.** \n",
    "\n",
    "When using the Kmeans algorithm under normal circumstances, it is because you don't have labels. In this case we will use the labels to try to get an idea of how well the algorithm performed, but you won't usually do this for Kmeans, so the classification report and confusion matrix at the end of this project, don't truly make sense in a real world setting!.\n",
    "___\n",
    "\n",
    "## The Data\n",
    "\n",
    "We will use a data frame with 777 observations on the following 18 variables.\n",
    "* Private A factor with levels No and Yes indicating private or public university\n",
    "* Apps Number of applications received\n",
    "* Accept Number of applications accepted\n",
    "* Enroll Number of new students enrolled\n",
    "* Top10perc Pct. new students from top 10% of H.S. class\n",
    "* Top25perc Pct. new students from top 25% of H.S. class\n",
    "* F.Undergrad Number of fulltime undergraduates\n",
    "* P.Undergrad Number of parttime undergraduates\n",
    "* Outstate Out-of-state tuition\n",
    "* Room.Board Room and board costs\n",
    "* Books Estimated book costs\n",
    "* Personal Estimated personal spending\n",
    "* PhD Pct. of faculty with Ph.D.’s\n",
    "* Terminal Pct. of faculty with terminal degree\n",
    "* S.F.Ratio Student/faculty ratio\n",
    "* perc.alumni Pct. alumni who donate\n",
    "* Expend Instructional expenditure per student\n",
    "* Grad.Rate Graduation rate"
   ]
  },
  {
   "cell_type": "markdown",
   "metadata": {},
   "source": [
    "## Import Libraries\n",
    "\n",
    "** Import the libraries you usually use for data analysis.**"
   ]
  },
  {
   "cell_type": "code",
   "execution_count": 1,
   "metadata": {},
   "outputs": [],
   "source": [
    "import numpy as np\n",
    "import pandas as pd\n",
    "import matplotlib.pyplot as plt\n",
    "import seaborn as sns\n",
    "%matplotlib inline"
   ]
  },
  {
   "cell_type": "markdown",
   "metadata": {},
   "source": [
    "## Get the Data"
   ]
  },
  {
   "cell_type": "markdown",
   "metadata": {},
   "source": [
    "** Read in the College_Data file using read_csv. Figure out how to set the first column as the index.**"
   ]
  },
  {
   "cell_type": "code",
   "execution_count": 2,
   "metadata": {},
   "outputs": [],
   "source": [
    "df = pd.read_csv('College_Data',index_col=0)"
   ]
  },
  {
   "cell_type": "markdown",
   "metadata": {},
   "source": [
    "**Check the head of the data**"
   ]
  },
  {
   "cell_type": "code",
   "execution_count": 3,
   "metadata": {},
   "outputs": [
    {
     "data": {
      "text/html": [
       "<div>\n",
       "<style scoped>\n",
       "    .dataframe tbody tr th:only-of-type {\n",
       "        vertical-align: middle;\n",
       "    }\n",
       "\n",
       "    .dataframe tbody tr th {\n",
       "        vertical-align: top;\n",
       "    }\n",
       "\n",
       "    .dataframe thead th {\n",
       "        text-align: right;\n",
       "    }\n",
       "</style>\n",
       "<table border=\"1\" class=\"dataframe\">\n",
       "  <thead>\n",
       "    <tr style=\"text-align: right;\">\n",
       "      <th></th>\n",
       "      <th>Private</th>\n",
       "      <th>Apps</th>\n",
       "      <th>Accept</th>\n",
       "      <th>Enroll</th>\n",
       "      <th>Top10perc</th>\n",
       "      <th>Top25perc</th>\n",
       "      <th>F.Undergrad</th>\n",
       "      <th>P.Undergrad</th>\n",
       "      <th>Outstate</th>\n",
       "      <th>Room.Board</th>\n",
       "      <th>Books</th>\n",
       "      <th>Personal</th>\n",
       "      <th>PhD</th>\n",
       "      <th>Terminal</th>\n",
       "      <th>S.F.Ratio</th>\n",
       "      <th>perc.alumni</th>\n",
       "      <th>Expend</th>\n",
       "      <th>Grad.Rate</th>\n",
       "    </tr>\n",
       "  </thead>\n",
       "  <tbody>\n",
       "    <tr>\n",
       "      <th>Abilene Christian University</th>\n",
       "      <td>Yes</td>\n",
       "      <td>1660</td>\n",
       "      <td>1232</td>\n",
       "      <td>721</td>\n",
       "      <td>23</td>\n",
       "      <td>52</td>\n",
       "      <td>2885</td>\n",
       "      <td>537</td>\n",
       "      <td>7440</td>\n",
       "      <td>3300</td>\n",
       "      <td>450</td>\n",
       "      <td>2200</td>\n",
       "      <td>70</td>\n",
       "      <td>78</td>\n",
       "      <td>18.1</td>\n",
       "      <td>12</td>\n",
       "      <td>7041</td>\n",
       "      <td>60</td>\n",
       "    </tr>\n",
       "    <tr>\n",
       "      <th>Adelphi University</th>\n",
       "      <td>Yes</td>\n",
       "      <td>2186</td>\n",
       "      <td>1924</td>\n",
       "      <td>512</td>\n",
       "      <td>16</td>\n",
       "      <td>29</td>\n",
       "      <td>2683</td>\n",
       "      <td>1227</td>\n",
       "      <td>12280</td>\n",
       "      <td>6450</td>\n",
       "      <td>750</td>\n",
       "      <td>1500</td>\n",
       "      <td>29</td>\n",
       "      <td>30</td>\n",
       "      <td>12.2</td>\n",
       "      <td>16</td>\n",
       "      <td>10527</td>\n",
       "      <td>56</td>\n",
       "    </tr>\n",
       "    <tr>\n",
       "      <th>Adrian College</th>\n",
       "      <td>Yes</td>\n",
       "      <td>1428</td>\n",
       "      <td>1097</td>\n",
       "      <td>336</td>\n",
       "      <td>22</td>\n",
       "      <td>50</td>\n",
       "      <td>1036</td>\n",
       "      <td>99</td>\n",
       "      <td>11250</td>\n",
       "      <td>3750</td>\n",
       "      <td>400</td>\n",
       "      <td>1165</td>\n",
       "      <td>53</td>\n",
       "      <td>66</td>\n",
       "      <td>12.9</td>\n",
       "      <td>30</td>\n",
       "      <td>8735</td>\n",
       "      <td>54</td>\n",
       "    </tr>\n",
       "    <tr>\n",
       "      <th>Agnes Scott College</th>\n",
       "      <td>Yes</td>\n",
       "      <td>417</td>\n",
       "      <td>349</td>\n",
       "      <td>137</td>\n",
       "      <td>60</td>\n",
       "      <td>89</td>\n",
       "      <td>510</td>\n",
       "      <td>63</td>\n",
       "      <td>12960</td>\n",
       "      <td>5450</td>\n",
       "      <td>450</td>\n",
       "      <td>875</td>\n",
       "      <td>92</td>\n",
       "      <td>97</td>\n",
       "      <td>7.7</td>\n",
       "      <td>37</td>\n",
       "      <td>19016</td>\n",
       "      <td>59</td>\n",
       "    </tr>\n",
       "    <tr>\n",
       "      <th>Alaska Pacific University</th>\n",
       "      <td>Yes</td>\n",
       "      <td>193</td>\n",
       "      <td>146</td>\n",
       "      <td>55</td>\n",
       "      <td>16</td>\n",
       "      <td>44</td>\n",
       "      <td>249</td>\n",
       "      <td>869</td>\n",
       "      <td>7560</td>\n",
       "      <td>4120</td>\n",
       "      <td>800</td>\n",
       "      <td>1500</td>\n",
       "      <td>76</td>\n",
       "      <td>72</td>\n",
       "      <td>11.9</td>\n",
       "      <td>2</td>\n",
       "      <td>10922</td>\n",
       "      <td>15</td>\n",
       "    </tr>\n",
       "  </tbody>\n",
       "</table>\n",
       "</div>"
      ],
      "text/plain": [
       "                             Private  Apps  Accept  Enroll  Top10perc  \\\n",
       "Abilene Christian University     Yes  1660    1232     721         23   \n",
       "Adelphi University               Yes  2186    1924     512         16   \n",
       "Adrian College                   Yes  1428    1097     336         22   \n",
       "Agnes Scott College              Yes   417     349     137         60   \n",
       "Alaska Pacific University        Yes   193     146      55         16   \n",
       "\n",
       "                              Top25perc  F.Undergrad  P.Undergrad  Outstate  \\\n",
       "Abilene Christian University         52         2885          537      7440   \n",
       "Adelphi University                   29         2683         1227     12280   \n",
       "Adrian College                       50         1036           99     11250   \n",
       "Agnes Scott College                  89          510           63     12960   \n",
       "Alaska Pacific University            44          249          869      7560   \n",
       "\n",
       "                              Room.Board  Books  Personal  PhD  Terminal  \\\n",
       "Abilene Christian University        3300    450      2200   70        78   \n",
       "Adelphi University                  6450    750      1500   29        30   \n",
       "Adrian College                      3750    400      1165   53        66   \n",
       "Agnes Scott College                 5450    450       875   92        97   \n",
       "Alaska Pacific University           4120    800      1500   76        72   \n",
       "\n",
       "                              S.F.Ratio  perc.alumni  Expend  Grad.Rate  \n",
       "Abilene Christian University       18.1           12    7041         60  \n",
       "Adelphi University                 12.2           16   10527         56  \n",
       "Adrian College                     12.9           30    8735         54  \n",
       "Agnes Scott College                 7.7           37   19016         59  \n",
       "Alaska Pacific University          11.9            2   10922         15  "
      ]
     },
     "execution_count": 3,
     "metadata": {},
     "output_type": "execute_result"
    }
   ],
   "source": [
    "df.head()"
   ]
  },
  {
   "cell_type": "markdown",
   "metadata": {},
   "source": [
    "** Check the info() and describe() methods on the data.**"
   ]
  },
  {
   "cell_type": "code",
   "execution_count": 4,
   "metadata": {},
   "outputs": [
    {
     "name": "stdout",
     "output_type": "stream",
     "text": [
      "<class 'pandas.core.frame.DataFrame'>\n",
      "Index: 777 entries, Abilene Christian University to York College of Pennsylvania\n",
      "Data columns (total 18 columns):\n",
      " #   Column       Non-Null Count  Dtype  \n",
      "---  ------       --------------  -----  \n",
      " 0   Private      777 non-null    object \n",
      " 1   Apps         777 non-null    int64  \n",
      " 2   Accept       777 non-null    int64  \n",
      " 3   Enroll       777 non-null    int64  \n",
      " 4   Top10perc    777 non-null    int64  \n",
      " 5   Top25perc    777 non-null    int64  \n",
      " 6   F.Undergrad  777 non-null    int64  \n",
      " 7   P.Undergrad  777 non-null    int64  \n",
      " 8   Outstate     777 non-null    int64  \n",
      " 9   Room.Board   777 non-null    int64  \n",
      " 10  Books        777 non-null    int64  \n",
      " 11  Personal     777 non-null    int64  \n",
      " 12  PhD          777 non-null    int64  \n",
      " 13  Terminal     777 non-null    int64  \n",
      " 14  S.F.Ratio    777 non-null    float64\n",
      " 15  perc.alumni  777 non-null    int64  \n",
      " 16  Expend       777 non-null    int64  \n",
      " 17  Grad.Rate    777 non-null    int64  \n",
      "dtypes: float64(1), int64(16), object(1)\n",
      "memory usage: 109.3+ KB\n"
     ]
    }
   ],
   "source": [
    "df.info()"
   ]
  },
  {
   "cell_type": "code",
   "execution_count": 5,
   "metadata": {},
   "outputs": [
    {
     "data": {
      "text/html": [
       "<div>\n",
       "<style scoped>\n",
       "    .dataframe tbody tr th:only-of-type {\n",
       "        vertical-align: middle;\n",
       "    }\n",
       "\n",
       "    .dataframe tbody tr th {\n",
       "        vertical-align: top;\n",
       "    }\n",
       "\n",
       "    .dataframe thead th {\n",
       "        text-align: right;\n",
       "    }\n",
       "</style>\n",
       "<table border=\"1\" class=\"dataframe\">\n",
       "  <thead>\n",
       "    <tr style=\"text-align: right;\">\n",
       "      <th></th>\n",
       "      <th>Apps</th>\n",
       "      <th>Accept</th>\n",
       "      <th>Enroll</th>\n",
       "      <th>Top10perc</th>\n",
       "      <th>Top25perc</th>\n",
       "      <th>F.Undergrad</th>\n",
       "      <th>P.Undergrad</th>\n",
       "      <th>Outstate</th>\n",
       "      <th>Room.Board</th>\n",
       "      <th>Books</th>\n",
       "      <th>Personal</th>\n",
       "      <th>PhD</th>\n",
       "      <th>Terminal</th>\n",
       "      <th>S.F.Ratio</th>\n",
       "      <th>perc.alumni</th>\n",
       "      <th>Expend</th>\n",
       "      <th>Grad.Rate</th>\n",
       "    </tr>\n",
       "  </thead>\n",
       "  <tbody>\n",
       "    <tr>\n",
       "      <th>count</th>\n",
       "      <td>777.000000</td>\n",
       "      <td>777.000000</td>\n",
       "      <td>777.000000</td>\n",
       "      <td>777.000000</td>\n",
       "      <td>777.000000</td>\n",
       "      <td>777.000000</td>\n",
       "      <td>777.000000</td>\n",
       "      <td>777.000000</td>\n",
       "      <td>777.000000</td>\n",
       "      <td>777.000000</td>\n",
       "      <td>777.000000</td>\n",
       "      <td>777.000000</td>\n",
       "      <td>777.000000</td>\n",
       "      <td>777.000000</td>\n",
       "      <td>777.000000</td>\n",
       "      <td>777.000000</td>\n",
       "      <td>777.00000</td>\n",
       "    </tr>\n",
       "    <tr>\n",
       "      <th>mean</th>\n",
       "      <td>3001.638353</td>\n",
       "      <td>2018.804376</td>\n",
       "      <td>779.972973</td>\n",
       "      <td>27.558559</td>\n",
       "      <td>55.796654</td>\n",
       "      <td>3699.907336</td>\n",
       "      <td>855.298584</td>\n",
       "      <td>10440.669241</td>\n",
       "      <td>4357.526384</td>\n",
       "      <td>549.380952</td>\n",
       "      <td>1340.642214</td>\n",
       "      <td>72.660232</td>\n",
       "      <td>79.702703</td>\n",
       "      <td>14.089704</td>\n",
       "      <td>22.743887</td>\n",
       "      <td>9660.171171</td>\n",
       "      <td>65.46332</td>\n",
       "    </tr>\n",
       "    <tr>\n",
       "      <th>std</th>\n",
       "      <td>3870.201484</td>\n",
       "      <td>2451.113971</td>\n",
       "      <td>929.176190</td>\n",
       "      <td>17.640364</td>\n",
       "      <td>19.804778</td>\n",
       "      <td>4850.420531</td>\n",
       "      <td>1522.431887</td>\n",
       "      <td>4023.016484</td>\n",
       "      <td>1096.696416</td>\n",
       "      <td>165.105360</td>\n",
       "      <td>677.071454</td>\n",
       "      <td>16.328155</td>\n",
       "      <td>14.722359</td>\n",
       "      <td>3.958349</td>\n",
       "      <td>12.391801</td>\n",
       "      <td>5221.768440</td>\n",
       "      <td>17.17771</td>\n",
       "    </tr>\n",
       "    <tr>\n",
       "      <th>min</th>\n",
       "      <td>81.000000</td>\n",
       "      <td>72.000000</td>\n",
       "      <td>35.000000</td>\n",
       "      <td>1.000000</td>\n",
       "      <td>9.000000</td>\n",
       "      <td>139.000000</td>\n",
       "      <td>1.000000</td>\n",
       "      <td>2340.000000</td>\n",
       "      <td>1780.000000</td>\n",
       "      <td>96.000000</td>\n",
       "      <td>250.000000</td>\n",
       "      <td>8.000000</td>\n",
       "      <td>24.000000</td>\n",
       "      <td>2.500000</td>\n",
       "      <td>0.000000</td>\n",
       "      <td>3186.000000</td>\n",
       "      <td>10.00000</td>\n",
       "    </tr>\n",
       "    <tr>\n",
       "      <th>25%</th>\n",
       "      <td>776.000000</td>\n",
       "      <td>604.000000</td>\n",
       "      <td>242.000000</td>\n",
       "      <td>15.000000</td>\n",
       "      <td>41.000000</td>\n",
       "      <td>992.000000</td>\n",
       "      <td>95.000000</td>\n",
       "      <td>7320.000000</td>\n",
       "      <td>3597.000000</td>\n",
       "      <td>470.000000</td>\n",
       "      <td>850.000000</td>\n",
       "      <td>62.000000</td>\n",
       "      <td>71.000000</td>\n",
       "      <td>11.500000</td>\n",
       "      <td>13.000000</td>\n",
       "      <td>6751.000000</td>\n",
       "      <td>53.00000</td>\n",
       "    </tr>\n",
       "    <tr>\n",
       "      <th>50%</th>\n",
       "      <td>1558.000000</td>\n",
       "      <td>1110.000000</td>\n",
       "      <td>434.000000</td>\n",
       "      <td>23.000000</td>\n",
       "      <td>54.000000</td>\n",
       "      <td>1707.000000</td>\n",
       "      <td>353.000000</td>\n",
       "      <td>9990.000000</td>\n",
       "      <td>4200.000000</td>\n",
       "      <td>500.000000</td>\n",
       "      <td>1200.000000</td>\n",
       "      <td>75.000000</td>\n",
       "      <td>82.000000</td>\n",
       "      <td>13.600000</td>\n",
       "      <td>21.000000</td>\n",
       "      <td>8377.000000</td>\n",
       "      <td>65.00000</td>\n",
       "    </tr>\n",
       "    <tr>\n",
       "      <th>75%</th>\n",
       "      <td>3624.000000</td>\n",
       "      <td>2424.000000</td>\n",
       "      <td>902.000000</td>\n",
       "      <td>35.000000</td>\n",
       "      <td>69.000000</td>\n",
       "      <td>4005.000000</td>\n",
       "      <td>967.000000</td>\n",
       "      <td>12925.000000</td>\n",
       "      <td>5050.000000</td>\n",
       "      <td>600.000000</td>\n",
       "      <td>1700.000000</td>\n",
       "      <td>85.000000</td>\n",
       "      <td>92.000000</td>\n",
       "      <td>16.500000</td>\n",
       "      <td>31.000000</td>\n",
       "      <td>10830.000000</td>\n",
       "      <td>78.00000</td>\n",
       "    </tr>\n",
       "    <tr>\n",
       "      <th>max</th>\n",
       "      <td>48094.000000</td>\n",
       "      <td>26330.000000</td>\n",
       "      <td>6392.000000</td>\n",
       "      <td>96.000000</td>\n",
       "      <td>100.000000</td>\n",
       "      <td>31643.000000</td>\n",
       "      <td>21836.000000</td>\n",
       "      <td>21700.000000</td>\n",
       "      <td>8124.000000</td>\n",
       "      <td>2340.000000</td>\n",
       "      <td>6800.000000</td>\n",
       "      <td>103.000000</td>\n",
       "      <td>100.000000</td>\n",
       "      <td>39.800000</td>\n",
       "      <td>64.000000</td>\n",
       "      <td>56233.000000</td>\n",
       "      <td>118.00000</td>\n",
       "    </tr>\n",
       "  </tbody>\n",
       "</table>\n",
       "</div>"
      ],
      "text/plain": [
       "               Apps        Accept       Enroll   Top10perc   Top25perc  \\\n",
       "count    777.000000    777.000000   777.000000  777.000000  777.000000   \n",
       "mean    3001.638353   2018.804376   779.972973   27.558559   55.796654   \n",
       "std     3870.201484   2451.113971   929.176190   17.640364   19.804778   \n",
       "min       81.000000     72.000000    35.000000    1.000000    9.000000   \n",
       "25%      776.000000    604.000000   242.000000   15.000000   41.000000   \n",
       "50%     1558.000000   1110.000000   434.000000   23.000000   54.000000   \n",
       "75%     3624.000000   2424.000000   902.000000   35.000000   69.000000   \n",
       "max    48094.000000  26330.000000  6392.000000   96.000000  100.000000   \n",
       "\n",
       "        F.Undergrad   P.Undergrad      Outstate   Room.Board        Books  \\\n",
       "count    777.000000    777.000000    777.000000   777.000000   777.000000   \n",
       "mean    3699.907336    855.298584  10440.669241  4357.526384   549.380952   \n",
       "std     4850.420531   1522.431887   4023.016484  1096.696416   165.105360   \n",
       "min      139.000000      1.000000   2340.000000  1780.000000    96.000000   \n",
       "25%      992.000000     95.000000   7320.000000  3597.000000   470.000000   \n",
       "50%     1707.000000    353.000000   9990.000000  4200.000000   500.000000   \n",
       "75%     4005.000000    967.000000  12925.000000  5050.000000   600.000000   \n",
       "max    31643.000000  21836.000000  21700.000000  8124.000000  2340.000000   \n",
       "\n",
       "          Personal         PhD    Terminal   S.F.Ratio  perc.alumni  \\\n",
       "count   777.000000  777.000000  777.000000  777.000000   777.000000   \n",
       "mean   1340.642214   72.660232   79.702703   14.089704    22.743887   \n",
       "std     677.071454   16.328155   14.722359    3.958349    12.391801   \n",
       "min     250.000000    8.000000   24.000000    2.500000     0.000000   \n",
       "25%     850.000000   62.000000   71.000000   11.500000    13.000000   \n",
       "50%    1200.000000   75.000000   82.000000   13.600000    21.000000   \n",
       "75%    1700.000000   85.000000   92.000000   16.500000    31.000000   \n",
       "max    6800.000000  103.000000  100.000000   39.800000    64.000000   \n",
       "\n",
       "             Expend  Grad.Rate  \n",
       "count    777.000000  777.00000  \n",
       "mean    9660.171171   65.46332  \n",
       "std     5221.768440   17.17771  \n",
       "min     3186.000000   10.00000  \n",
       "25%     6751.000000   53.00000  \n",
       "50%     8377.000000   65.00000  \n",
       "75%    10830.000000   78.00000  \n",
       "max    56233.000000  118.00000  "
      ]
     },
     "execution_count": 5,
     "metadata": {},
     "output_type": "execute_result"
    }
   ],
   "source": [
    "df.describe()"
   ]
  },
  {
   "cell_type": "markdown",
   "metadata": {},
   "source": [
    "## EDA\n",
    "\n",
    "It's time to create some data visualizations!\n",
    "\n",
    "** Create a scatterplot of Grad.Rate versus Room.Board where the points are colored by the Private column. **"
   ]
  },
  {
   "cell_type": "code",
   "execution_count": 8,
   "metadata": {},
   "outputs": [
    {
     "data": {
      "text/plain": [
       "<seaborn.axisgrid.FacetGrid at 0x14938148>"
      ]
     },
     "execution_count": 8,
     "metadata": {},
     "output_type": "execute_result"
    },
    {
     "data": {
      "image/png": "[encoded data removed]",
      "text/plain": [
       "<Figure size 485.25x432 with 1 Axes>"
      ]
     },
     "metadata": {},
     "output_type": "display_data"
    }
   ],
   "source": [
    "sns.set_style('whitegrid')\n",
    "sns.lmplot('Room.Board','Grad.Rate',data=df,hue='Private',palette='coolwarm',height=6,aspect=1,fit_reg=False)"
   ]
  },
  {
   "cell_type": "markdown",
   "metadata": {},
   "source": [
    "**Create a scatterplot of F.Undergrad versus Outstate where the points are colored by the Private column.**"
   ]
  },
  {
   "cell_type": "code",
   "execution_count": 9,
   "metadata": {},
   "outputs": [
    {
     "data": {
      "text/plain": [
       "<seaborn.axisgrid.FacetGrid at 0x14a7f8e0>"
      ]
     },
     "execution_count": 9,
     "metadata": {},
     "output_type": "execute_result"
    },
    {
     "data": {
      "image/png": "[encoded data removed]",
      "text/plain": [
       "<Figure size 485.25x432 with 1 Axes>"
      ]
     },
     "metadata": {},
     "output_type": "display_data"
    }
   ],
   "source": [
    "sns.lmplot('Outstate','F.Undergrad',data=df,hue='Private',palette='coolwarm',height=6,aspect=1,fit_reg=False)"
   ]
  },
  {
   "cell_type": "markdown",
   "metadata": {},
   "source": [
    "** Create a stacked histogram showing Out of State Tuition based on the Private column. Try doing this using [sns.FacetGrid](https://stanford.edu/~mwaskom/software/seaborn/generated/seaborn.FacetGrid.html). If that is too tricky, see if you can do it just by using two instances of pandas.plot(kind='hist'). **"
   ]
  },
  {
   "cell_type": "code",
   "execution_count": 11,
   "metadata": {},
   "outputs": [
    {
     "data": {
      "image/png": "[encoded data removed]",
      "text/plain": [
       "<Figure size 864x432 with 1 Axes>"
      ]
     },
     "metadata": {},
     "output_type": "display_data"
    }
   ],
   "source": [
    "h = sns.FacetGrid(df,hue=\"Private\",palette='coolwarm',height=6,aspect=2)\n",
    "h = h.map(plt.hist,'Outstate',bins=20,alpha=0.7)"
   ]
  },
  {
   "cell_type": "markdown",
   "metadata": {},
   "source": [
    "**Create a similar histogram for the Grad.Rate column.**"
   ]
  },
  {
   "cell_type": "code",
   "execution_count": 12,
   "metadata": {},
   "outputs": [
    {
     "data": {
      "image/png": "[encoded data removed]",
      "text/plain": [
       "<Figure size 864x432 with 1 Axes>"
      ]
     },
     "metadata": {},
     "output_type": "display_data"
    }
   ],
   "source": [
    "h = sns.FacetGrid(df,hue=\"Private\",palette='coolwarm',height=6,aspect=2)\n",
    "h = h.map(plt.hist,'Grad.Rate',bins=20,alpha=0.7)"
   ]
  },
  {
   "cell_type": "markdown",
   "metadata": {},
   "source": [
    "** Notice how there seems to be a private school with a graduation rate of higher than 100%.What is the name of that school?**"
   ]
  },
  {
   "cell_type": "code",
   "execution_count": 13,
   "metadata": {},
   "outputs": [
    {
     "data": {
      "text/html": [
       "<div>\n",
       "<style scoped>\n",
       "    .dataframe tbody tr th:only-of-type {\n",
       "        vertical-align: middle;\n",
       "    }\n",
       "\n",
       "    .dataframe tbody tr th {\n",
       "        vertical-align: top;\n",
       "    }\n",
       "\n",
       "    .dataframe thead th {\n",
       "        text-align: right;\n",
       "    }\n",
       "</style>\n",
       "<table border=\"1\" class=\"dataframe\">\n",
       "  <thead>\n",
       "    <tr style=\"text-align: right;\">\n",
       "      <th></th>\n",
       "      <th>Private</th>\n",
       "      <th>Apps</th>\n",
       "      <th>Accept</th>\n",
       "      <th>Enroll</th>\n",
       "      <th>Top10perc</th>\n",
       "      <th>Top25perc</th>\n",
       "      <th>F.Undergrad</th>\n",
       "      <th>P.Undergrad</th>\n",
       "      <th>Outstate</th>\n",
       "      <th>Room.Board</th>\n",
       "      <th>Books</th>\n",
       "      <th>Personal</th>\n",
       "      <th>PhD</th>\n",
       "      <th>Terminal</th>\n",
       "      <th>S.F.Ratio</th>\n",
       "      <th>perc.alumni</th>\n",
       "      <th>Expend</th>\n",
       "      <th>Grad.Rate</th>\n",
       "    </tr>\n",
       "  </thead>\n",
       "  <tbody>\n",
       "    <tr>\n",
       "      <th>Cazenovia College</th>\n",
       "      <td>Yes</td>\n",
       "      <td>3847</td>\n",
       "      <td>3433</td>\n",
       "      <td>527</td>\n",
       "      <td>9</td>\n",
       "      <td>35</td>\n",
       "      <td>1010</td>\n",
       "      <td>12</td>\n",
       "      <td>9384</td>\n",
       "      <td>4840</td>\n",
       "      <td>600</td>\n",
       "      <td>500</td>\n",
       "      <td>22</td>\n",
       "      <td>47</td>\n",
       "      <td>14.3</td>\n",
       "      <td>20</td>\n",
       "      <td>7697</td>\n",
       "      <td>118</td>\n",
       "    </tr>\n",
       "  </tbody>\n",
       "</table>\n",
       "</div>"
      ],
      "text/plain": [
       "                  Private  Apps  Accept  Enroll  Top10perc  Top25perc  \\\n",
       "Cazenovia College     Yes  3847    3433     527          9         35   \n",
       "\n",
       "                   F.Undergrad  P.Undergrad  Outstate  Room.Board  Books  \\\n",
       "Cazenovia College         1010           12      9384        4840    600   \n",
       "\n",
       "                   Personal  PhD  Terminal  S.F.Ratio  perc.alumni  Expend  \\\n",
       "Cazenovia College       500   22        47       14.3           20    7697   \n",
       "\n",
       "                   Grad.Rate  \n",
       "Cazenovia College        118  "
      ]
     },
     "execution_count": 13,
     "metadata": {},
     "output_type": "execute_result"
    }
   ],
   "source": [
    "df[df['Grad.Rate'] > 100]\n",
    "# Cazenovia College"
   ]
  },
  {
   "cell_type": "markdown",
   "metadata": {},
   "source": [
    "** Set that school's graduation rate to 100 so it makes sense. You may get a warning not an error) when doing this operation, so use dataframe operations or just re-do the histogram visualization to make sure it actually went through.**"
   ]
  },
  {
   "cell_type": "code",
   "execution_count": 14,
   "metadata": {},
   "outputs": [
    {
     "name": "stderr",
     "output_type": "stream",
     "text": [
      "<ipython-input-14-bc95ac68ab2d>:1: SettingWithCopyWarning: \n",
      "A value is trying to be set on a copy of a slice from a DataFrame\n",
      "\n",
      "See the caveats in the documentation: https://pandas.pydata.org/pandas-docs/stable/user_guide/indexing.html#returning-a-view-versus-a-copy\n",
      "  df['Grad.Rate']['Cazenovia College'] = 100\n"
     ]
    }
   ],
   "source": [
    "df['Grad.Rate']['Cazenovia College'] = 100"
   ]
  },
  {
   "cell_type": "markdown",
   "metadata": {},
   "source": [
    "## K Means Cluster Creation\n",
    "\n",
    "Now it is time to create the Cluster labels!\n",
    "\n",
    "** Import KMeans from SciKit Learn.**"
   ]
  },
  {
   "cell_type": "code",
   "execution_count": 16,
   "metadata": {},
   "outputs": [],
   "source": [
    "from sklearn.cluster import KMeans"
   ]
  },
  {
   "cell_type": "markdown",
   "metadata": {},
   "source": [
    "** Create an instance of a K Means model with 2 clusters.**"
   ]
  },
  {
   "cell_type": "code",
   "execution_count": 17,
   "metadata": {},
   "outputs": [],
   "source": [
    "kmeans = KMeans(n_clusters=2)"
   ]
  },
  {
   "cell_type": "markdown",
   "metadata": {},
   "source": [
    "**Fit the model to all the data except for the Private label.**"
   ]
  },
  {
   "cell_type": "code",
   "execution_count": 18,
   "metadata": {},
   "outputs": [
    {
     "data": {
      "text/plain": [
       "KMeans(algorithm='auto', copy_x=True, init='k-means++', max_iter=300,\n",
       "       n_clusters=2, n_init=10, n_jobs=None, precompute_distances='auto',\n",
       "       random_state=None, tol=0.0001, verbose=0)"
      ]
     },
     "execution_count": 18,
     "metadata": {},
     "output_type": "execute_result"
    }
   ],
   "source": [
    "kmeans.fit(df.drop('Private',axis=1))"
   ]
  },
  {
   "cell_type": "markdown",
   "metadata": {},
   "source": [
    "** What are the cluster center vectors?**"
   ]
  },
  {
   "cell_type": "code",
   "execution_count": 19,
   "metadata": {},
   "outputs": [
    {
     "data": {
      "text/plain": [
       "array([[1.81323468e+03, 1.28716592e+03, 4.91044843e+02, 2.53094170e+01,\n",
       "        5.34708520e+01, 2.18854858e+03, 5.95458894e+02, 1.03957085e+04,\n",
       "        4.31136472e+03, 5.41982063e+02, 1.28033632e+03, 7.04424514e+01,\n",
       "        7.78251121e+01, 1.40997010e+01, 2.31748879e+01, 8.93204634e+03,\n",
       "        6.50926756e+01],\n",
       "       [1.03631389e+04, 6.55089815e+03, 2.56972222e+03, 4.14907407e+01,\n",
       "        7.02037037e+01, 1.30619352e+04, 2.46486111e+03, 1.07191759e+04,\n",
       "        4.64347222e+03, 5.95212963e+02, 1.71420370e+03, 8.63981481e+01,\n",
       "        9.13333333e+01, 1.40277778e+01, 2.00740741e+01, 1.41705000e+04,\n",
       "        6.75925926e+01]])"
      ]
     },
     "execution_count": 19,
     "metadata": {},
     "output_type": "execute_result"
    }
   ],
   "source": [
    "kmeans.cluster_centers_"
   ]
  },
  {
   "cell_type": "markdown",
   "metadata": {},
   "source": [
    "## Evaluation\n",
    "\n",
    "There is no perfect way to evaluate clustering if you don't have the labels, however since this is just an exercise, we do have the labels, so we take advantage of this to evaluate our clusters, keep in mind, you usually won't have this luxury in the real world.\n",
    "\n",
    "** Create a new column for df called 'Cluster', which is a 1 for a Private school, and a 0 for a public school.**"
   ]
  },
  {
   "cell_type": "code",
   "execution_count": 20,
   "metadata": {},
   "outputs": [],
   "source": [
    "def converter(cluster):\n",
    "    if cluster == 'Yes':\n",
    "        return 1\n",
    "    else:\n",
    "        return 0"
   ]
  },
  {
   "cell_type": "code",
   "execution_count": 21,
   "metadata": {},
   "outputs": [],
   "source": [
    "df['Cluster'] = df['Private'].apply(converter)"
   ]
  },
  {
   "cell_type": "code",
   "execution_count": 22,
   "metadata": {},
   "outputs": [
    {
     "data": {
      "text/html": [
       "<div>\n",
       "<style scoped>\n",
       "    .dataframe tbody tr th:only-of-type {\n",
       "        vertical-align: middle;\n",
       "    }\n",
       "\n",
       "    .dataframe tbody tr th {\n",
       "        vertical-align: top;\n",
       "    }\n",
       "\n",
       "    .dataframe thead th {\n",
       "        text-align: right;\n",
       "    }\n",
       "</style>\n",
       "<table border=\"1\" class=\"dataframe\">\n",
       "  <thead>\n",
       "    <tr style=\"text-align: right;\">\n",
       "      <th></th>\n",
       "      <th>Private</th>\n",
       "      <th>Apps</th>\n",
       "      <th>Accept</th>\n",
       "      <th>Enroll</th>\n",
       "      <th>Top10perc</th>\n",
       "      <th>Top25perc</th>\n",
       "      <th>F.Undergrad</th>\n",
       "      <th>P.Undergrad</th>\n",
       "      <th>Outstate</th>\n",
       "      <th>Room.Board</th>\n",
       "      <th>Books</th>\n",
       "      <th>Personal</th>\n",
       "      <th>PhD</th>\n",
       "      <th>Terminal</th>\n",
       "      <th>S.F.Ratio</th>\n",
       "      <th>perc.alumni</th>\n",
       "      <th>Expend</th>\n",
       "      <th>Grad.Rate</th>\n",
       "      <th>Cluster</th>\n",
       "    </tr>\n",
       "  </thead>\n",
       "  <tbody>\n",
       "    <tr>\n",
       "      <th>Abilene Christian University</th>\n",
       "      <td>Yes</td>\n",
       "      <td>1660</td>\n",
       "      <td>1232</td>\n",
       "      <td>721</td>\n",
       "      <td>23</td>\n",
       "      <td>52</td>\n",
       "      <td>2885</td>\n",
       "      <td>537</td>\n",
       "      <td>7440</td>\n",
       "      <td>3300</td>\n",
       "      <td>450</td>\n",
       "      <td>2200</td>\n",
       "      <td>70</td>\n",
       "      <td>78</td>\n",
       "      <td>18.1</td>\n",
       "      <td>12</td>\n",
       "      <td>7041</td>\n",
       "      <td>60</td>\n",
       "      <td>1</td>\n",
       "    </tr>\n",
       "    <tr>\n",
       "      <th>Adelphi University</th>\n",
       "      <td>Yes</td>\n",
       "      <td>2186</td>\n",
       "      <td>1924</td>\n",
       "      <td>512</td>\n",
       "      <td>16</td>\n",
       "      <td>29</td>\n",
       "      <td>2683</td>\n",
       "      <td>1227</td>\n",
       "      <td>12280</td>\n",
       "      <td>6450</td>\n",
       "      <td>750</td>\n",
       "      <td>1500</td>\n",
       "      <td>29</td>\n",
       "      <td>30</td>\n",
       "      <td>12.2</td>\n",
       "      <td>16</td>\n",
       "      <td>10527</td>\n",
       "      <td>56</td>\n",
       "      <td>1</td>\n",
       "    </tr>\n",
       "    <tr>\n",
       "      <th>Adrian College</th>\n",
       "      <td>Yes</td>\n",
       "      <td>1428</td>\n",
       "      <td>1097</td>\n",
       "      <td>336</td>\n",
       "      <td>22</td>\n",
       "      <td>50</td>\n",
       "      <td>1036</td>\n",
       "      <td>99</td>\n",
       "      <td>11250</td>\n",
       "      <td>3750</td>\n",
       "      <td>400</td>\n",
       "      <td>1165</td>\n",
       "      <td>53</td>\n",
       "      <td>66</td>\n",
       "      <td>12.9</td>\n",
       "      <td>30</td>\n",
       "      <td>8735</td>\n",
       "      <td>54</td>\n",
       "      <td>1</td>\n",
       "    </tr>\n",
       "    <tr>\n",
       "      <th>Agnes Scott College</th>\n",
       "      <td>Yes</td>\n",
       "      <td>417</td>\n",
       "      <td>349</td>\n",
       "      <td>137</td>\n",
       "      <td>60</td>\n",
       "      <td>89</td>\n",
       "      <td>510</td>\n",
       "      <td>63</td>\n",
       "      <td>12960</td>\n",
       "      <td>5450</td>\n",
       "      <td>450</td>\n",
       "      <td>875</td>\n",
       "      <td>92</td>\n",
       "      <td>97</td>\n",
       "      <td>7.7</td>\n",
       "      <td>37</td>\n",
       "      <td>19016</td>\n",
       "      <td>59</td>\n",
       "      <td>1</td>\n",
       "    </tr>\n",
       "    <tr>\n",
       "      <th>Alaska Pacific University</th>\n",
       "      <td>Yes</td>\n",
       "      <td>193</td>\n",
       "      <td>146</td>\n",
       "      <td>55</td>\n",
       "      <td>16</td>\n",
       "      <td>44</td>\n",
       "      <td>249</td>\n",
       "      <td>869</td>\n",
       "      <td>7560</td>\n",
       "      <td>4120</td>\n",
       "      <td>800</td>\n",
       "      <td>1500</td>\n",
       "      <td>76</td>\n",
       "      <td>72</td>\n",
       "      <td>11.9</td>\n",
       "      <td>2</td>\n",
       "      <td>10922</td>\n",
       "      <td>15</td>\n",
       "      <td>1</td>\n",
       "    </tr>\n",
       "  </tbody>\n",
       "</table>\n",
       "</div>"
      ],
      "text/plain": [
       "                             Private  Apps  Accept  Enroll  Top10perc  \\\n",
       "Abilene Christian University     Yes  1660    1232     721         23   \n",
       "Adelphi University               Yes  2186    1924     512         16   \n",
       "Adrian College                   Yes  1428    1097     336         22   \n",
       "Agnes Scott College              Yes   417     349     137         60   \n",
       "Alaska Pacific University        Yes   193     146      55         16   \n",
       "\n",
       "                              Top25perc  F.Undergrad  P.Undergrad  Outstate  \\\n",
       "Abilene Christian University         52         2885          537      7440   \n",
       "Adelphi University                   29         2683         1227     12280   \n",
       "Adrian College                       50         1036           99     11250   \n",
       "Agnes Scott College                  89          510           63     12960   \n",
       "Alaska Pacific University            44          249          869      7560   \n",
       "\n",
       "                              Room.Board  Books  Personal  PhD  Terminal  \\\n",
       "Abilene Christian University        3300    450      2200   70        78   \n",
       "Adelphi University                  6450    750      1500   29        30   \n",
       "Adrian College                      3750    400      1165   53        66   \n",
       "Agnes Scott College                 5450    450       875   92        97   \n",
       "Alaska Pacific University           4120    800      1500   76        72   \n",
       "\n",
       "                              S.F.Ratio  perc.alumni  Expend  Grad.Rate  \\\n",
       "Abilene Christian University       18.1           12    7041         60   \n",
       "Adelphi University                 12.2           16   10527         56   \n",
       "Adrian College                     12.9           30    8735         54   \n",
       "Agnes Scott College                 7.7           37   19016         59   \n",
       "Alaska Pacific University          11.9            2   10922         15   \n",
       "\n",
       "                              Cluster  \n",
       "Abilene Christian University        1  \n",
       "Adelphi University                  1  \n",
       "Adrian College                      1  \n",
       "Agnes Scott College                 1  \n",
       "Alaska Pacific University           1  "
      ]
     },
     "execution_count": 22,
     "metadata": {},
     "output_type": "execute_result"
    }
   ],
   "source": [
    "df.head()"
   ]
  },
  {
   "cell_type": "markdown",
   "metadata": {},
   "source": [
    "** Create a confusion matrix and classification report to see how well the Kmeans clustering worked without being given any labels.**"
   ]
  },
  {
   "cell_type": "code",
   "execution_count": 23,
   "metadata": {},
   "outputs": [
    {
     "name": "stdout",
     "output_type": "stream",
     "text": [
      "[[138  74]\n",
      " [531  34]]\n",
      "\n",
      "\n",
      "              precision    recall  f1-score   support\n",
      "\n",
      "           0       0.21      0.65      0.31       212\n",
      "           1       0.31      0.06      0.10       565\n",
      "\n",
      "    accuracy                           0.22       777\n",
      "   macro avg       0.26      0.36      0.21       777\n",
      "weighted avg       0.29      0.22      0.16       777\n",
      "\n"
     ]
    }
   ],
   "source": [
    "from sklearn.metrics import confusion_matrix,classification_report\n",
    "print(confusion_matrix(df['Cluster'],kmeans.labels_))\n",
    "print('\\n')\n",
    "print(classification_report(df['Cluster'],kmeans.labels_))"
   ]
  },
  {
   "cell_type": "markdown",
   "metadata": {},
   "source": [
    "Not so bad considering the algorithm is purely using the features to cluster the universities into 2 distinct groups! Hopefully you can begin to see how K Means is useful for clustering un-labeled data!"
   ]
  }
 ],
 "metadata": {
  "kernelspec": {
   "display_name": "Python 3",
   "language": "python",
   "name": "python3"
  },
  "language_info": {
   "codemirror_mode": {
    "name": "ipython",
    "version": 3
   },
   "file_extension": ".py",
   "mimetype": "text/x-python",
   "name": "python",
   "nbconvert_exporter": "python",
   "pygments_lexer": "ipython3",
   "version": "3.8.1"
  }
 },
 "nbformat": 4,
 "nbformat_minor": 1
}
